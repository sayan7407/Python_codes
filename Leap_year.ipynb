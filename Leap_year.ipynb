{
  "nbformat": 4,
  "nbformat_minor": 0,
  "metadata": {
    "colab": {
      "name": "Leap_year.ipynb",
      "provenance": [],
      "authorship_tag": "ABX9TyPxCawFspkOmP69UbdmUHVI",
      "include_colab_link": true
    },
    "kernelspec": {
      "name": "python3",
      "display_name": "Python 3"
    }
  },
  "cells": [
    {
      "cell_type": "markdown",
      "metadata": {
        "id": "view-in-github",
        "colab_type": "text"
      },
      "source": [
        "<a href=\"https://colab.research.google.com/github/sayan7407/Python_codes/blob/master/Leap_year.ipynb\" target=\"_parent\"><img src=\"https://colab.research.google.com/assets/colab-badge.svg\" alt=\"Open In Colab\"/></a>"
      ]
    },
    {
      "cell_type": "markdown",
      "metadata": {
        "id": "reqv_ArvOvPZ"
      },
      "source": [
        "\n",
        "# Leap Year\n",
        "\n",
        "## year % 100 == 0 and year%400 == 0\n",
        "\n",
        "## or\n",
        "\n",
        "## year % 100 != 0 and year % 4 == 0 \n",
        "\n",
        "\n",
        "### 2100 --> not a leap year\n",
        "### 1900 --> not a leap year\n",
        "### 1800 --> not a leap year "
      ]
    },
    {
      "cell_type": "markdown",
      "metadata": {
        "id": "7eaFMMMVchyA"
      },
      "source": [
        "# Without Function"
      ]
    },
    {
      "cell_type": "code",
      "metadata": {
        "id": "t8mj7rpMOyrb",
        "outputId": "01b504df-6346-47a1-ff48-9961fcaaa892",
        "colab": {
          "base_uri": "https://localhost:8080/",
          "height": 51
        }
      },
      "source": [
        "year = int(input(\"enter the year \"))\n",
        "\n",
        "if (year%100 == 0):\n",
        "  if (year%400 == 0):\n",
        "    print(\"yes\", year , \"is a leap year \")\n",
        "  else :\n",
        "    print(\"not a leap year\")\n",
        "elif(year%4 == 0):\n",
        "  print(\"yes\" , year , \"is a leap year\")\n",
        "else:\n",
        "  print(\"not a leap year \")\n",
        "\n",
        "\n",
        "   \n",
        "    \n",
        "\n",
        "\n",
        "\n"
      ],
      "execution_count": 7,
      "outputs": [
        {
          "output_type": "stream",
          "text": [
            "enter the year 2000\n",
            "yes 2000 is a leap year \n"
          ],
          "name": "stdout"
        }
      ]
    },
    {
      "cell_type": "code",
      "metadata": {
        "id": "vEb_L9sdSFhu",
        "outputId": "fb1f8213-a030-4fdd-9f97-da52d3a06240",
        "colab": {
          "base_uri": "https://localhost:8080/",
          "height": 51
        }
      },
      "source": [
        "year = int(input(\"enter the year \"))\n",
        "\n",
        "\n",
        "\n",
        "if(year>0):\n",
        "  if ((year%100 == 0 and year%400 == 0) or (year%100 != 0 and year%4 == 0)):  \n",
        "      print(\"yes\", year , \"is a leap year \")\n",
        "  else :\n",
        "      print(\"not a leap year\")\n",
        "else:\n",
        "  print(\"sehi se input daalo! \")\n",
        "\n"
      ],
      "execution_count": 12,
      "outputs": [
        {
          "output_type": "stream",
          "text": [
            "enter the year 2000\n",
            "yes 2000 is a leap year \n"
          ],
          "name": "stdout"
        }
      ]
    },
    {
      "cell_type": "code",
      "metadata": {
        "id": "s07D6mhOUOf6",
        "outputId": "1fd15dae-70fe-4be4-d1e2-a5948adab96a",
        "colab": {
          "base_uri": "https://localhost:8080/",
          "height": 51
        }
      },
      "source": [
        "try:\n",
        "  year = int(input(\"enter the year \"))\n",
        "\n",
        "\n",
        "\n",
        "  if(year>0):\n",
        "    if ((year%100 == 0 and year%400 == 0) or (year%100 != 0 and year%4 == 0)):  \n",
        "        print(\"yes\", year , \"is a leap year \")\n",
        "    else :\n",
        "        print(\"not a leap year\")\n",
        "  else:\n",
        "    print(\"sehi se input daalo! \")\n",
        "\n",
        "except:\n",
        "   print(\"please enter the int valu : 404 error!!!\")"
      ],
      "execution_count": 13,
      "outputs": [
        {
          "output_type": "stream",
          "text": [
            "enter the year 2000.00\n",
            "please enter the int valu : 404 error!!!\n"
          ],
          "name": "stdout"
        }
      ]
    },
    {
      "cell_type": "markdown",
      "metadata": {
        "id": "5WmfjpQEcs7E"
      },
      "source": [
        "# With Function"
      ]
    },
    {
      "cell_type": "code",
      "metadata": {
        "id": "-ospisLQW-N5"
      },
      "source": [
        "def leap_year(a):\n",
        "   year = int(a)\n",
        "   if (year>0):\n",
        "     if ((year%100 == 0 and year%400 == 0) or (year%100 != 0 and year%4 == 0)):  \n",
        "       print(\"yes\", year , \"is a leap year \")\n",
        "     else: \n",
        "       print(\"not a leap year\")\n",
        "   else:\n",
        "      print(\"sehi se input daalo! \")"
      ],
      "execution_count": 20,
      "outputs": []
    },
    {
      "cell_type": "code",
      "metadata": {
        "id": "J7Ab8kMXYx8b",
        "outputId": "9878e952-93e8-4574-bd8c-c721e8a4beee",
        "colab": {
          "base_uri": "https://localhost:8080/",
          "height": 34
        }
      },
      "source": [
        "leap_year(-20000.0)"
      ],
      "execution_count": 24,
      "outputs": [
        {
          "output_type": "stream",
          "text": [
            "sehi se input daalo! \n"
          ],
          "name": "stdout"
        }
      ]
    },
    {
      "cell_type": "code",
      "metadata": {
        "id": "AHkDN756azuF"
      },
      "source": [
        ""
      ],
      "execution_count": null,
      "outputs": []
    }
  ]
}